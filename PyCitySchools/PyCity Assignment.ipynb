{
 "cells": [
  {
   "cell_type": "markdown",
   "id": "95afef83",
   "metadata": {},
   "source": [
    "# PyCity Schools"
   ]
  },
  {
   "cell_type": "code",
   "execution_count": 2,
   "id": "f9e779db",
   "metadata": {},
   "outputs": [],
   "source": [
    "#Dependecies and Setup\n",
    "import pandas as pd\n",
    "\n",
    "# File to Load (Remember to Change These)\n",
    "school_data_to_load = \"Resources/schools_complete.csv\"\n",
    "student_data_to_load = \"Resources/students_complete.csv\"\n",
    "\n",
    "#Combine the data into a single dataset\n",
    "school_data_complete = pd.merge()"
   ]
  },
  {
   "cell_type": "code",
   "execution_count": null,
   "id": "1236f0b1",
   "metadata": {},
   "outputs": [],
   "source": []
  }
 ],
 "metadata": {
  "kernelspec": {
   "display_name": "Python 3 (ipykernel)",
   "language": "python",
   "name": "python3"
  },
  "language_info": {
   "codemirror_mode": {
    "name": "ipython",
    "version": 3
   },
   "file_extension": ".py",
   "mimetype": "text/x-python",
   "name": "python",
   "nbconvert_exporter": "python",
   "pygments_lexer": "ipython3",
   "version": "3.9.13"
  }
 },
 "nbformat": 4,
 "nbformat_minor": 5
}
